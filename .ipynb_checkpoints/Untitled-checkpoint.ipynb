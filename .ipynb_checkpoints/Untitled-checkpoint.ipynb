{
 "cells": [
  {
   "cell_type": "code",
   "execution_count": 1,
   "metadata": {
    "collapsed": true
   },
   "outputs": [],
   "source": [
    "import peewee\n",
    "import os \n",
    "from playhouse import signals\n",
    "from playhouse.postgres_ext import *\n",
    "from playhouse.csv_loader import *\n",
    "from urllib.parse import urlparse\n",
    "\n",
    "url = urlparse(os.environ[\"SMASH_URL\"])\n",
    "\n",
    "config = dict(\n",
    "    database=url.path[1:],\n",
    "    user=url.username,\n",
    "    password=url.password,\n",
    "    host=url.hostname,\n",
    "    port=url.port,\n",
    "    sslmode='require'\n",
    ")\n",
    "\n",
    "\n",
    "conn = PostgresqlExtDatabase(\n",
    "    autocommit=True,\n",
    "    autorollback=True,\n",
    "    register_hstore=False,\n",
    "    **config\n",
    ")\n",
    "\n",
    "\n",
    "class BaseModel(signals.Model):\n",
    "\n",
    "    class Meta:\n",
    "        database = conn\n",
    "\n",
    "\n",
    "class Library(BaseModel):\n",
    "\tlname = peewee.PrimaryKeyField(null=True)\n",
    "\tstudents = peewee.IntegerField(null=True)\n",
    "\tcapacity = peewee.IntegerField(null=True)\n",
    "\n",
    "\n",
    "\n",
    "\tclass Meta:\n",
    "\t\tdb_table='library'\n",
    "\n",
    "def update_count(lib_id):\n",
    "    q = Library.update(students = students+1).where(Library.lname == lib_id).execute()\n",
    "    val = Library.select().where(Library.lname == lib_id).execute()\n",
    "    return val\n",
    "\n",
    "\n",
    "\n",
    "\n"
   ]
  },
  {
   "cell_type": "code",
   "execution_count": 3,
   "metadata": {
    "collapsed": false
   },
   "outputs": [
    {
     "data": {
      "text/plain": [
       "<playhouse._speedups._ModelQueryResultWrapper at 0x104b997c8>"
      ]
     },
     "execution_count": 3,
     "metadata": {},
     "output_type": "execute_result"
    }
   ],
   "source": [
    "Library.select().execute()"
   ]
  },
  {
   "cell_type": "code",
   "execution_count": null,
   "metadata": {
    "collapsed": false
   },
   "outputs": [],
   "source": [
    "Library.insert_many({\"lname\": \"Bechtel\", \"students\": 0, \"capacity\": 1})"
   ]
  }
 ],
 "metadata": {
  "anaconda-cloud": {},
  "kernelspec": {
   "display_name": "Python [default]",
   "language": "python",
   "name": "python3"
  },
  "language_info": {
   "codemirror_mode": {
    "name": "ipython",
    "version": 3
   },
   "file_extension": ".py",
   "mimetype": "text/x-python",
   "name": "python",
   "nbconvert_exporter": "python",
   "pygments_lexer": "ipython3",
   "version": "3.5.2"
  }
 },
 "nbformat": 4,
 "nbformat_minor": 1
}
